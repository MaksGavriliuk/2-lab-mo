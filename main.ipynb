{
 "cells": [
  {
   "cell_type": "markdown",
   "source": [
    "# Первое задание"
   ],
   "metadata": {
    "collapsed": false
   }
  },
  {
   "cell_type": "code",
   "execution_count": 72,
   "outputs": [],
   "source": [
    "import numpy as np\n",
    "import matplotlib.pyplot as plt\n",
    "from scipy.stats import linregress"
   ],
   "metadata": {
    "collapsed": false
   }
  },
  {
   "cell_type": "code",
   "execution_count": 73,
   "outputs": [],
   "source": [
    "x = np.array([19.5, 15, 13.5, 23.3, 6.3, 2.5, 13, 1.8, 6.5, 1.8])\n",
    "y = np.array([0, 38.5, 59, 97.4, 119.2, 129.5, 198.7, 248.7, 318, 438.5])"
   ],
   "metadata": {
    "collapsed": false
   }
  },
  {
   "cell_type": "code",
   "execution_count": 74,
   "outputs": [
    {
     "data": {
      "text/plain": "array([[ 1.        , -0.67705142],\n       [-0.67705142,  1.        ]])"
     },
     "execution_count": 74,
     "metadata": {},
     "output_type": "execute_result"
    }
   ],
   "source": [
    "np.corrcoef(x, y)"
   ],
   "metadata": {
    "collapsed": false
   }
  },
  {
   "cell_type": "markdown",
   "source": [
    "Коэффициент корреляции равен -0.677051"
   ],
   "metadata": {
    "collapsed": false
   }
  },
  {
   "cell_type": "code",
   "execution_count": 75,
   "outputs": [],
   "source": [
    "# тут немного упростил себе жизнь, используя функцию linregress, но во второй задаче делаю всё через формулы\n",
    "slope, intercept, r_value, p_value, std_err = linregress(x, y)\n",
    "line = slope * x + intercept"
   ],
   "metadata": {
    "collapsed": false
   }
  },
  {
   "cell_type": "code",
   "execution_count": 76,
   "outputs": [
    {
     "data": {
      "text/plain": "<Figure size 640x480 with 1 Axes>",
      "image/png": "[encoded data removed]"
     },
     "metadata": {},
     "output_type": "display_data"
    }
   ],
   "source": [
    "plt.scatter(x, y, label='Данные')\n",
    "plt.plot(x, line, color='red', label='Линия регрессии')\n",
    "plt.xlabel('Электрическая активность сетчатки')\n",
    "plt.ylabel('Проницаемость сосудов сетчатки')\n",
    "plt.legend()\n",
    "plt.show()"
   ],
   "metadata": {
    "collapsed": false
   }
  },
  {
   "cell_type": "code",
   "execution_count": 77,
   "outputs": [
    {
     "data": {
      "text/plain": "'Уравнение регрессии: y = -12.09182361880855 * x + 289.53761974610427'"
     },
     "execution_count": 77,
     "metadata": {},
     "output_type": "execute_result"
    }
   ],
   "source": [
    "f'Уравнение регрессии: y = {slope} * x + {intercept}'"
   ],
   "metadata": {
    "collapsed": false
   }
  },
  {
   "cell_type": "markdown",
   "source": [
    "Коэффициент корреляции равен -0.677051, что говорит о довольно высокой обратной зависимостью между электрической активностью сетчатки и проницаемостью сосудов сетчатки"
   ],
   "metadata": {
    "collapsed": false
   }
  },
  {
   "cell_type": "code",
   "execution_count": 78,
   "outputs": [
    {
     "data": {
      "text/plain": "0.03151397425563342"
     },
     "execution_count": 78,
     "metadata": {},
     "output_type": "execute_result"
    }
   ],
   "source": [
    "p_value"
   ],
   "metadata": {
    "collapsed": false
   }
  },
  {
   "cell_type": "markdown",
   "source": [
    "Так как prob p-value меньше выбранного уровня значимости (0.05 в нашем случае), то нулевая гипотеза отвергается, принимается гипотеза H1. Она утверждает, что корреляция между переменными значима"
   ],
   "metadata": {
    "collapsed": false
   }
  },
  {
   "cell_type": "markdown",
   "source": [
    "# Второе задание"
   ],
   "metadata": {
    "collapsed": false
   }
  },
  {
   "cell_type": "code",
   "execution_count": 79,
   "outputs": [],
   "source": [
    "from scipy.stats import t"
   ],
   "metadata": {
    "collapsed": false
   }
  },
  {
   "cell_type": "code",
   "execution_count": 80,
   "outputs": [],
   "source": [
    "x = np.array([52, 110, 170, 141, 150, 160, 200, 230, 240, 260, 270, 300])\n",
    "y = np.array([100, 90, 130, 31, 60, 39, 58, 70, 80, 150, 120, 130])"
   ],
   "metadata": {
    "collapsed": false
   }
  },
  {
   "cell_type": "code",
   "execution_count": 81,
   "outputs": [],
   "source": [
    "# вычисление коэффициентов регрессии\n",
    "n = len(x)\n",
    "M_x_y = x * y\n",
    "Sq_x = x ** 2\n",
    "Sq_y = y ** 2\n",
    "S_x = np.sum(x)\n",
    "S_y = np.sum(y)\n",
    "S_xx = np.sum(Sq_x)\n",
    "S_yy = np.sum(Sq_y)\n",
    "S_xy = np.sum(x * y)\n",
    "x_bar = S_x / n\n",
    "y_bar = S_y / n\n",
    "Diff_x = x - x_bar\n",
    "Diff_y = y * y_bar\n",
    "S_diff_x = np.sum(Diff_x)\n",
    "S_diff_x_sq = np.sum(Diff_x ** 2)\n",
    "A_x_y = S_xy / n\n",
    "A_sq_x = np.sum(Sq_x) / n\n",
    "A_sq_y = np.sum(Sq_y) / n"
   ],
   "metadata": {
    "collapsed": false
   }
  },
  {
   "cell_type": "code",
   "execution_count": 82,
   "outputs": [
    {
     "data": {
      "text/plain": "(4862.020833333336, 1355.4722222222217)"
     },
     "execution_count": 82,
     "metadata": {},
     "output_type": "execute_result"
    }
   ],
   "source": [
    "disp_x = A_sq_x - x_bar ** 2\n",
    "disp_y = A_sq_y - y_bar ** 2\n",
    "disp_x, disp_y"
   ],
   "metadata": {
    "collapsed": false
   }
  },
  {
   "cell_type": "code",
   "execution_count": 83,
   "outputs": [],
   "source": [
    "slope = (A_x_y - x_bar * y_bar) / disp_x\n",
    "intercept = y_bar - slope * x_bar"
   ],
   "metadata": {
    "collapsed": false
   }
  },
  {
   "cell_type": "code",
   "execution_count": 84,
   "outputs": [
    {
     "name": "stdout",
     "output_type": "stream",
     "text": [
      "Наклон (slope): 0.2198417153361291\n",
      "Пересечение с осью y (intercept): 46.34178032396811\n"
     ]
    }
   ],
   "source": [
    "print(f\"Наклон (slope): {slope}\")\n",
    "print(f\"Пересечение с осью y (intercept): {intercept}\")"
   ],
   "metadata": {
    "collapsed": false
   }
  },
  {
   "cell_type": "code",
   "execution_count": 85,
   "outputs": [
    {
     "data": {
      "text/plain": "array([ 57.77354952,  70.52436901,  83.71487193,  77.33946219,\n        79.31803762,  81.51645478,  90.31012339,  96.90537485,\n        99.103792  , 103.50062631, 105.69904346, 112.29429492])"
     },
     "execution_count": 85,
     "metadata": {},
     "output_type": "execute_result"
    }
   ],
   "source": [
    "# линия регрессии\n",
    "line = slope * x + intercept\n",
    "line"
   ],
   "metadata": {
    "collapsed": false
   }
  },
  {
   "cell_type": "code",
   "execution_count": 86,
   "outputs": [
    {
     "data": {
      "text/plain": "'Коэффициент корреляции равен 0.41636402741536743'"
     },
     "execution_count": 86,
     "metadata": {},
     "output_type": "execute_result"
    }
   ],
   "source": [
    "correlation = np.corrcoef(x, y)[0, 1]\n",
    "f'Коэффициент корреляции равен {correlation}'"
   ],
   "metadata": {
    "collapsed": false
   }
  },
  {
   "cell_type": "code",
   "execution_count": 87,
   "outputs": [
    {
     "data": {
      "text/plain": "<Figure size 640x480 with 1 Axes>",
      "image/png": "[encoded data removed]"
     },
     "metadata": {},
     "output_type": "display_data"
    }
   ],
   "source": [
    "plt.scatter(x, y, label='Данные')\n",
    "plt.plot(x, line, color='red', label='Линия регрессии')\n",
    "plt.xlabel('x')\n",
    "plt.ylabel('y')\n",
    "plt.legend()\n",
    "plt.show()"
   ],
   "metadata": {
    "collapsed": false
   }
  },
  {
   "cell_type": "code",
   "execution_count": 88,
   "outputs": [
    {
     "data": {
      "text/plain": "'Уравнение регрессии: y = 46.34 + 0.22 * x'"
     },
     "execution_count": 88,
     "metadata": {},
     "output_type": "execute_result"
    }
   ],
   "source": [
    "f\"Уравнение регрессии: y = {intercept:.2f} + {slope:.2f} * x\""
   ],
   "metadata": {
    "collapsed": false
   }
  },
  {
   "cell_type": "code",
   "execution_count": 89,
   "outputs": [
    {
     "data": {
      "text/plain": "array([ 57.77354952,  70.52436901,  83.71487193,  77.33946219,\n        79.31803762,  81.51645478,  90.31012339,  96.90537485,\n        99.103792  , 103.50062631, 105.69904346, 112.29429492])"
     },
     "execution_count": 89,
     "metadata": {},
     "output_type": "execute_result"
    }
   ],
   "source": [
    "y_pred = intercept + slope * x\n",
    "y_pred"
   ],
   "metadata": {
    "collapsed": false
   }
  },
  {
   "cell_type": "code",
   "execution_count": 90,
   "outputs": [
    {
     "data": {
      "text/plain": "<Figure size 640x480 with 1 Axes>",
      "image/png": "[encoded data removed]"
     },
     "metadata": {},
     "output_type": "display_data"
    }
   ],
   "source": [
    "# построение точечной диаграммы\n",
    "plt.scatter(x, y, color='blue', label='Исходные данные')\n",
    "plt.plot(x, y_pred, color='red', label='Линия регрессии')\n",
    "plt.xlabel('x')\n",
    "plt.ylabel('y')\n",
    "plt.legend()\n",
    "plt.show()"
   ],
   "metadata": {
    "collapsed": false
   }
  },
  {
   "cell_type": "code",
   "execution_count": 91,
   "outputs": [
    {
     "data": {
      "text/plain": "0.4163640274153675"
     },
     "execution_count": 91,
     "metadata": {},
     "output_type": "execute_result"
    }
   ],
   "source": [
    "# коэффициент парной корреляции\n",
    "n = len(x)\n",
    "x_mean = np.mean(x)\n",
    "y_mean = np.mean(y)\n",
    "numerator = np.sum((x - x_mean) * (y - y_mean))\n",
    "denominator = np.sqrt(np.sum((x - x_mean) ** 2) * np.sum((y - y_mean) ** 2))\n",
    "correlation_coefficient = numerator / denominator\n",
    "correlation_coefficient"
   ],
   "metadata": {
    "collapsed": false
   }
  },
  {
   "cell_type": "markdown",
   "source": [
    "Коэффициент находится в интервале от 0,3 до 0,5, связь умеренная, прямая"
   ],
   "metadata": {
    "collapsed": false
   }
  },
  {
   "cell_type": "code",
   "execution_count": 92,
   "outputs": [],
   "source": [
    "# вычисление t-статистики\n",
    "t_statistic = correlation * np.sqrt((n - 2) / (1 - correlation ** 2))"
   ],
   "metadata": {
    "collapsed": false
   }
  },
  {
   "cell_type": "code",
   "execution_count": 93,
   "outputs": [],
   "source": [
    "# вычисление степеней свободы\n",
    "df = n - 2"
   ],
   "metadata": {
    "collapsed": false
   }
  },
  {
   "cell_type": "code",
   "execution_count": 94,
   "outputs": [
    {
     "data": {
      "text/plain": "'p-value: 0.17819111920353015'"
     },
     "execution_count": 94,
     "metadata": {},
     "output_type": "execute_result"
    }
   ],
   "source": [
    "# вычисление p-значения\n",
    "p_value = 2 * (1 - t.cdf(abs(t_statistic), df))\n",
    "f'p-value: {p_value}'"
   ],
   "metadata": {
    "collapsed": false
   }
  },
  {
   "cell_type": "markdown",
   "source": [
    "Так как prob p-value больше выбранного уровня значимости (0.05 в нашем случае), то нулевая гипотеза принимается. Она утверждает, что корреляция между переменными не значима"
   ],
   "metadata": {
    "collapsed": false
   }
  },
  {
   "cell_type": "code",
   "execution_count": 95,
   "outputs": [
    {
     "data": {
      "text/plain": "34.96214433941087"
     },
     "execution_count": 95,
     "metadata": {},
     "output_type": "execute_result"
    }
   ],
   "source": [
    "# стандартная ошибка остаточной компоненты\n",
    "s_err = np.sqrt((1 / (n - 1)) * np.sum((y - y_pred) ** 2))\n",
    "s_err"
   ],
   "metadata": {
    "collapsed": false
   }
  },
  {
   "cell_type": "code",
   "execution_count": 96,
   "outputs": [
    {
     "data": {
      "text/plain": "29.328717865881387"
     },
     "execution_count": 96,
     "metadata": {},
     "output_type": "execute_result"
    }
   ],
   "source": [
    "# средняя квадратичная (стандартная) ошибка оценивания коэффициента a\n",
    "s_err_a = s_err * np.sqrt(S_xx / (n * np.sum(np.array([xi - x_bar for xi in x]) ** 2)))\n",
    "s_err_a"
   ],
   "metadata": {
    "collapsed": false
   }
  },
  {
   "cell_type": "code",
   "execution_count": 97,
   "outputs": [
    {
     "data": {
      "text/plain": "5.060542681713771"
     },
     "execution_count": 97,
     "metadata": {},
     "output_type": "execute_result"
    }
   ],
   "source": [
    "# средняя квадратичная (стандартная) ошибка оценивания коэффициента b\n",
    "s_err_b = s_err ** 2 / np.sqrt(np.sum(np.array([xi - x_bar for xi in x]) ** 2))\n",
    "s_err_b"
   ],
   "metadata": {
    "collapsed": false
   }
  },
  {
   "cell_type": "code",
   "execution_count": 98,
   "outputs": [
    {
     "data": {
      "text/plain": "1.5800820389042072"
     },
     "execution_count": 98,
     "metadata": {},
     "output_type": "execute_result"
    }
   ],
   "source": [
    "# t статистика для a\n",
    "ta = intercept / s_err_a\n",
    "ta"
   ],
   "metadata": {
    "collapsed": false
   }
  },
  {
   "cell_type": "code",
   "execution_count": 99,
   "outputs": [
    {
     "data": {
      "text/plain": "0.04344232015481765"
     },
     "execution_count": 99,
     "metadata": {},
     "output_type": "execute_result"
    }
   ],
   "source": [
    "# t статистика для b\n",
    "tb = slope / s_err_b\n",
    "tb"
   ],
   "metadata": {
    "collapsed": false
   }
  },
  {
   "cell_type": "markdown",
   "source": [
    "Сравниваем полученное значение t-критерия Стьюдента с критическим при р=0,05 и f = 11 (f=N-1) (число степеней свободы)значением, указанным в таблице: tтабл = 2,20, можно сказать, что коэффициент а ненадёжен, коэффициент b ненадёжен при данном уровне значимости.\n",
    "Так как рассчитанное значение критерия 𝑡𝑎 = 1,58 меньше критического, делаем вывод о том, что наблюдаемые различия статистически не значимы, коэффициент а ненадёжен. Значение критерия 𝑡𝑏 = 0,043 меньше табличного, значит различия сравниваемых величин статистически не значимы, коэффициент b ненадёжен при данном уровне значимости."
   ],
   "metadata": {
    "collapsed": false
   }
  },
  {
   "cell_type": "code",
   "execution_count": 100,
   "outputs": [
    {
     "data": {
      "text/plain": "(3.476180485589256, 0.09557310434059885)"
     },
     "execution_count": 100,
     "metadata": {},
     "output_type": "execute_result"
    }
   ],
   "source": [
    "delta_a = 2.2 * ta\n",
    "delta_b = 2.2 * tb\n",
    "delta_a, delta_b"
   ],
   "metadata": {
    "collapsed": false
   }
  },
  {
   "cell_type": "code",
   "execution_count": 101,
   "outputs": [
    {
     "data": {
      "text/plain": "'доверительный интервал для а: 42.865599838378856 < a < 49.81796080955736'"
     },
     "execution_count": 101,
     "metadata": {},
     "output_type": "execute_result"
    }
   ],
   "source": [
    "f'доверительный интервал для а: {intercept - delta_a} < a < {intercept + delta_a}'"
   ],
   "metadata": {
    "collapsed": false
   }
  },
  {
   "cell_type": "code",
   "execution_count": 102,
   "outputs": [
    {
     "data": {
      "text/plain": "'доверительный интервал для b: 0.12426861099553024 < b < 0.3154148196767279'"
     },
     "execution_count": 102,
     "metadata": {},
     "output_type": "execute_result"
    }
   ],
   "source": [
    "f'доверительный интервал для b: {slope - delta_b} < b < {slope + delta_b}'"
   ],
   "metadata": {
    "collapsed": false
   }
  },
  {
   "cell_type": "code",
   "execution_count": 103,
   "outputs": [
    {
     "data": {
      "text/plain": "'Таким образом, из-за ненадёжности, полученные оценки коэффициента регрессии b и свободного члена а не являются эффективными и состоятельными, а само уравнение у = 46.34178032396811 + 0.2198417153361291х не может использоваться для моделирования и прогнозирования динамики. Это обусловлено большой ошибкой уравнения регрессии.'"
     },
     "execution_count": 103,
     "metadata": {},
     "output_type": "execute_result"
    }
   ],
   "source": [
    "f'Таким образом, из-за ненадёжности, полученные оценки коэффициента регрессии b и свободного члена а не являются эффективными и состоятельными, а само уравнение у = {intercept} + {slope}х не может использоваться для моделирования и прогнозирования динамики. Это обусловлено большой ошибкой уравнения регрессии.'"
   ],
   "metadata": {
    "collapsed": false
   }
  }
 ],
 "metadata": {
  "kernelspec": {
   "display_name": "Python 3",
   "language": "python",
   "name": "python3"
  },
  "language_info": {
   "codemirror_mode": {
    "name": "ipython",
    "version": 2
   },
   "file_extension": ".py",
   "mimetype": "text/x-python",
   "name": "python",
   "nbconvert_exporter": "python",
   "pygments_lexer": "ipython2",
   "version": "2.7.6"
  }
 },
 "nbformat": 4,
 "nbformat_minor": 0
}
